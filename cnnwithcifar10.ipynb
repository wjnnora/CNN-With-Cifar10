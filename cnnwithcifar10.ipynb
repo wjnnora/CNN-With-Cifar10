{
 "cells": [
  {
   "cell_type": "markdown",
   "metadata": {},
   "source": [
    "# Treinando uma CNN com o dataset CIFAR100"
   ]
  },
  {
   "cell_type": "code",
   "execution_count": 1,
   "metadata": {},
   "outputs": [],
   "source": [
    "# Carregando as libs que serão utilizadas\n",
    "from platform import python_version\n",
    "import watermark\n",
    "import warnings\n",
    "import sys\n",
    "import os\n",
    "\n",
    "import tensorflow as tf\n",
    "import pandas as pd\n",
    "import keras\n",
    "import numpy as np\n",
    "from keras.preprocessing.image import ImageDataGenerator\n",
    "from keras.models import Sequential\n",
    "from keras.layers import Conv2D, MaxPool2D, Dense, Flatten, Dropout\n",
    "from keras.callbacks import EarlyStopping, ModelCheckpoint, ReduceLROnPlateau\n",
    "from keras.backend import clear_session\n",
    "\n",
    "import matplotlib.pyplot as plt    \n",
    "\n",
    "from sklearn.metrics import accuracy_score, recall_score, precision_score, f1_score\n",
    "from sklearn.metrics import confusion_matrix\n",
    "from sklearn.model_selection import KFold\n",
    "\n",
    "warnings.simplefilter(action='ignore', category=FutureWarning)\n",
    "warnings.filterwarnings(\"ignore\", category=FutureWarning)\n",
    "if not sys.warnoptions:\n",
    "    warnings.simplefilter(\"ignore\")\n",
    "    \n",
    "os.environ['TF_FORCE_GPU_ALLOW_GROWTH'] = 'true'"
   ]
  },
  {
   "cell_type": "code",
   "execution_count": 2,
   "metadata": {},
   "outputs": [
    {
     "name": "stdout",
     "output_type": "stream",
     "text": [
      "pandas     1.0.5\n",
      "watermark  2.0.2\n",
      "numpy      1.18.5\n",
      "keras      2.4.3\n",
      "tensorflow 2.2.0\n",
      "Versões utilizadas\n"
     ]
    }
   ],
   "source": [
    "# Verificação das versões das libs\n",
    "%reload_ext watermark\n",
    "%watermark -a \"Versões utilizadas\" --iversion"
   ]
  },
  {
   "cell_type": "code",
   "execution_count": 3,
   "metadata": {},
   "outputs": [
    {
     "data": {
      "text/plain": [
       "[name: \"/device:CPU:0\"\n",
       " device_type: \"CPU\"\n",
       " memory_limit: 268435456\n",
       " locality {\n",
       " }\n",
       " incarnation: 11594003731679826892,\n",
       " name: \"/device:XLA_CPU:0\"\n",
       " device_type: \"XLA_CPU\"\n",
       " memory_limit: 17179869184\n",
       " locality {\n",
       " }\n",
       " incarnation: 3605448631118340886\n",
       " physical_device_desc: \"device: XLA_CPU device\",\n",
       " name: \"/device:GPU:0\"\n",
       " device_type: \"GPU\"\n",
       " memory_limit: 822149120\n",
       " locality {\n",
       "   bus_id: 1\n",
       "   links {\n",
       "   }\n",
       " }\n",
       " incarnation: 2831340243740060627\n",
       " physical_device_desc: \"device: 0, name: TITAN RTX, pci bus id: 0000:0b:00.0, compute capability: 7.5\",\n",
       " name: \"/device:GPU:1\"\n",
       " device_type: \"GPU\"\n",
       " memory_limit: 11493058816\n",
       " locality {\n",
       "   bus_id: 1\n",
       "   links {\n",
       "     link {\n",
       "       device_id: 2\n",
       "       type: \"StreamExecutor\"\n",
       "       strength: 1\n",
       "     }\n",
       "   }\n",
       " }\n",
       " incarnation: 2314299376875930054\n",
       " physical_device_desc: \"device: 1, name: TITAN X (Pascal), pci bus id: 0000:05:00.0, compute capability: 6.1\",\n",
       " name: \"/device:GPU:2\"\n",
       " device_type: \"GPU\"\n",
       " memory_limit: 10602760128\n",
       " locality {\n",
       "   bus_id: 1\n",
       "   links {\n",
       "     link {\n",
       "       device_id: 1\n",
       "       type: \"StreamExecutor\"\n",
       "       strength: 1\n",
       "     }\n",
       "   }\n",
       " }\n",
       " incarnation: 2843420290598903058\n",
       " physical_device_desc: \"device: 2, name: GeForce GTX 1080 Ti, pci bus id: 0000:09:00.0, compute capability: 6.1\",\n",
       " name: \"/device:XLA_GPU:0\"\n",
       " device_type: \"XLA_GPU\"\n",
       " memory_limit: 17179869184\n",
       " locality {\n",
       " }\n",
       " incarnation: 11832447282736319797\n",
       " physical_device_desc: \"device: XLA_GPU device\",\n",
       " name: \"/device:XLA_GPU:1\"\n",
       " device_type: \"XLA_GPU\"\n",
       " memory_limit: 17179869184\n",
       " locality {\n",
       " }\n",
       " incarnation: 11477804382373305174\n",
       " physical_device_desc: \"device: XLA_GPU device\",\n",
       " name: \"/device:XLA_GPU:2\"\n",
       " device_type: \"XLA_GPU\"\n",
       " memory_limit: 17179869184\n",
       " locality {\n",
       " }\n",
       " incarnation: 4378630131800528314\n",
       " physical_device_desc: \"device: XLA_GPU device\"]"
      ]
     },
     "execution_count": 3,
     "metadata": {},
     "output_type": "execute_result"
    }
   ],
   "source": [
    "# Dispositivos disponíveis na máquina\n",
    "from tensorflow.python.client import device_lib\n",
    "device_lib.list_local_devices()"
   ]
  },
  {
   "cell_type": "code",
   "execution_count": 4,
   "metadata": {},
   "outputs": [
    {
     "name": "stdout",
     "output_type": "stream",
     "text": [
      "Sun Jul 26 08:35:57 2020       \r\n",
      "+-----------------------------------------------------------------------------+\r\n",
      "| NVIDIA-SMI 440.95.01    Driver Version: 440.95.01    CUDA Version: 10.2     |\r\n",
      "|-------------------------------+----------------------+----------------------+\r\n",
      "| GPU  Name        Persistence-M| Bus-Id        Disp.A | Volatile Uncorr. ECC |\r\n",
      "| Fan  Temp  Perf  Pwr:Usage/Cap|         Memory-Usage | GPU-Util  Compute M. |\r\n",
      "|===============================+======================+======================|\r\n",
      "|   0  TITAN X (Pascal)    On   | 00000000:05:00.0 Off |                  N/A |\r\n",
      "| 24%   45C    P5    12W / 250W |    536MiB / 12194MiB |      0%      Default |\r\n",
      "+-------------------------------+----------------------+----------------------+\r\n",
      "|   1  GeForce GTX 108...  On   | 00000000:09:00.0 Off |                  N/A |\r\n",
      "| 23%   42C    P8    10W / 250W |    423MiB / 11178MiB |      0%      Default |\r\n",
      "+-------------------------------+----------------------+----------------------+\r\n",
      "|   2  TITAN RTX           On   | 00000000:0B:00.0 Off |                  N/A |\r\n",
      "| 41%   47C    P8    14W / 280W |  23213MiB / 24220MiB |      0%      Default |\r\n",
      "+-------------------------------+----------------------+----------------------+\r\n",
      "                                                                               \r\n",
      "+-----------------------------------------------------------------------------+\r\n",
      "| Processes:                                                       GPU Memory |\r\n",
      "|  GPU       PID   Type   Process name                             Usage      |\r\n",
      "|=============================================================================|\r\n",
      "|    0      1505      G   /usr/lib/xorg/Xorg                            39MiB |\r\n",
      "|    0      1541      G   /usr/bin/gnome-shell                          72MiB |\r\n",
      "|    0      3713      C   ...ique/anaconda3/envs/Dl1Cap02/bin/python   137MiB |\r\n",
      "|    0     23033      C   ...ique/anaconda3/envs/Dl1Cap02/bin/python   137MiB |\r\n",
      "|    0     25702      C   ...ra/anaconda3/envs/tensorflow/bin/python   137MiB |\r\n",
      "|    1      3713      C   ...ique/anaconda3/envs/Dl1Cap02/bin/python   137MiB |\r\n",
      "|    1     23033      C   ...ique/anaconda3/envs/Dl1Cap02/bin/python   137MiB |\r\n",
      "|    1     25702      C   ...ra/anaconda3/envs/tensorflow/bin/python   137MiB |\r\n",
      "|    2      3713      C   ...ique/anaconda3/envs/Dl1Cap02/bin/python 21821MiB |\r\n",
      "|    2     23033      C   ...ique/anaconda3/envs/Dl1Cap02/bin/python  1217MiB |\r\n",
      "|    2     25702      C   ...ra/anaconda3/envs/tensorflow/bin/python   163MiB |\r\n",
      "+-----------------------------------------------------------------------------+\r\n"
     ]
    }
   ],
   "source": [
    "# Verificando a memória disponível na máquina\n",
    "!nvidia-smi"
   ]
  },
  {
   "cell_type": "code",
   "execution_count": 5,
   "metadata": {},
   "outputs": [],
   "source": [
    "# Carregando o dataset \n",
    "train, test = keras.datasets.cifar10.load_data()"
   ]
  },
  {
   "cell_type": "code",
   "execution_count": 6,
   "metadata": {},
   "outputs": [],
   "source": [
    "# Separando os dados de treino\n",
    "x_train, y_train = train"
   ]
  },
  {
   "cell_type": "code",
   "execution_count": 7,
   "metadata": {},
   "outputs": [],
   "source": [
    "# Separando dados para teste e validação\n",
    "x_aux, y_aux = test\n",
    "\n",
    "x_test = x_aux[:5000,:]\n",
    "y_test = y_aux[:5000,:]\n",
    "x_validation = x_aux[5000:,:]\n",
    "y_validation = y_aux[5000:,:]\n",
    "\n",
    "# Remove os dados auxiliares da memória\n",
    "del x_aux, y_aux"
   ]
  },
  {
   "cell_type": "code",
   "execution_count": 8,
   "metadata": {},
   "outputs": [],
   "source": [
    "# Convertendo as variáveis target para variáveis categoricas \n",
    "y_train_to_categorical = keras.utils.to_categorical(y_train)\n",
    "y_test_to_categorical = keras.utils.to_categorical(y_test)\n",
    "y_validation_to_categorical = keras.utils.to_categorical(y_validation)"
   ]
  },
  {
   "cell_type": "code",
   "execution_count": 9,
   "metadata": {},
   "outputs": [],
   "source": [
    "# Deixa os dados de treinamento na mesma escala\n",
    "x_train = x_train / 255.\n",
    "x_test = x_test / 255.\n",
    "x_validation = x_validation / 255."
   ]
  },
  {
   "cell_type": "code",
   "execution_count": 10,
   "metadata": {},
   "outputs": [
    {
     "name": "stdout",
     "output_type": "stream",
     "text": [
      "X train:  (50000, 32, 32, 3)\n",
      "Y train:  (50000, 10)\n",
      "X test:  (5000, 32, 32, 3)\n",
      "Y test:  (5000, 10)\n",
      "X validation:  (5000, 32, 32, 3)\n",
      "Y validation:  (5000, 10)\n"
     ]
    }
   ],
   "source": [
    "# Exibindo o shape dos datasets\n",
    "print(\"X train: \", x_train.shape)\n",
    "print(\"Y train: \", y_train_to_categorical.shape)\n",
    "print(\"X test: \", x_test.shape)\n",
    "print(\"Y test: \", y_test_to_categorical.shape)\n",
    "print(\"X validation: \", x_validation.shape)\n",
    "print(\"Y validation: \", y_validation_to_categorical.shape)"
   ]
  },
  {
   "cell_type": "code",
   "execution_count": 11,
   "metadata": {},
   "outputs": [
    {
     "data": {
      "image/png": "[encoded data removed]",
      "text/plain": [
       "<Figure size 1440x1440 with 5 Axes>"
      ]
     },
     "metadata": {
      "needs_background": "light"
     },
     "output_type": "display_data"
    }
   ],
   "source": [
    "# Exibindo as 5 primeiras imagens do dataset de treino\n",
    "plt.figure(figsize=(20, 20))\n",
    "for i in range(1):\n",
    "    for j in range(5):              \n",
    "        plt.subplot(2, 5, i * 5 + j + 1)\n",
    "        plt.imshow(x_test[j])\n",
    "        plt.title(f\"Classe: {y_test[j]}\")\n",
    "        plt.axis('off')\n",
    "    \n",
    "plt.show()"
   ]
  },
  {
   "cell_type": "code",
   "execution_count": 12,
   "metadata": {},
   "outputs": [
    {
     "data": {
      "image/png": "[encoded data removed]",
      "text/plain": [
       "<Figure size 1440x720 with 1 Axes>"
      ]
     },
     "metadata": {
      "needs_background": "light"
     },
     "output_type": "display_data"
    }
   ],
   "source": [
    "# Verificando a quantidade por classe\n",
    "df = pd.DataFrame(columns=['classe'])\n",
    "df['classe'] = y_train.reshape(-1).astype('int32')\n",
    "\n",
    "plt.figure(figsize=(20, 10))\n",
    "df.groupby([df['classe']]).size().sort_values(ascending=False).plot(kind='bar')\n",
    "\n",
    "# Deleta o dataframe para liberar espaço na memória\n",
    "del df"
   ]
  },
  {
   "cell_type": "code",
   "execution_count": 13,
   "metadata": {},
   "outputs": [],
   "source": [
    "# Montando o modelo\n",
    "def cria_modelo():\n",
    "    model = Sequential()\n",
    "\n",
    "    # Primeira amada Convolucional\n",
    "    model.add(Conv2D(input_shape = x_train.shape[1:],\n",
    "                     filters = 16,\n",
    "                     kernel_size = (2, 2),\n",
    "                     kernel_initializer = \"normal\", \n",
    "                     padding = 'same',\n",
    "                     activation = 'relu'))\n",
    "\n",
    "    # Primeira camada de Pooling\n",
    "    model.add(MaxPool2D(pool_size = 2))\n",
    "    \n",
    "    # Primeira camada Dropout\n",
    "    model.add(Dropout(0.25))\n",
    "\n",
    "    # Segunda camada Convolucional\n",
    "    model.add(Conv2D(filters = 32, \n",
    "                     kernel_size = (2, 2),\n",
    "                     kernel_initializer = \"normal\",\n",
    "                     padding = 'same',\n",
    "                     activation = 'relu'))       \n",
    "\n",
    "    # Segunda camada de Pooling\n",
    "    model.add(MaxPool2D(pool_size = 2))\n",
    "    \n",
    "    # Segunda camada Dropout\n",
    "    model.add(Dropout(0.25))\n",
    "    \n",
    "    # Terceira camada Convolucional\n",
    "    model.add(Conv2D(filters = 64, \n",
    "                    kernel_size = (2, 2),\n",
    "                    padding = \"same\",\n",
    "                    kernel_initializer = \"normal\",\n",
    "                    activation = \"relu\"))    \n",
    "    \n",
    "    # Terceira camada de Pooling\n",
    "    model.add(MaxPool2D(pool_size = 2))\n",
    "    \n",
    "    # Terceira camada Dropout\n",
    "    model.add(Dropout(0.25))\n",
    "\n",
    "    # Camada Flatten\n",
    "    model.add(Flatten())\n",
    "\n",
    "    # Primeira camada densa de saída com 256 neurônios e função de ativação relu\n",
    "    model.add(Dense(256, activation = 'relu'))\n",
    "    \n",
    "    # Segunda camada densa de saída com 128 neurônios e função de ativação relu\n",
    "    model.add(Dense(128, activation = 'relu'))\n",
    "    \n",
    "    # Terceira e última camada densa de saída com 100 neurônios e função de ativação softmax\n",
    "    model.add(Dense(10, activation = 'softmax'))\n",
    "    \n",
    "    # Compila o modelo\n",
    "    model.compile(loss=\"categorical_crossentropy\", optimizer = \"adam\", metrics = [\"accuracy\"])\n",
    "    \n",
    "    return model"
   ]
  },
  {
   "cell_type": "code",
   "execution_count": 14,
   "metadata": {},
   "outputs": [],
   "source": [
    "# Para controlar o número dos folds no laço de repetição\n",
    "num_fold = 1\n",
    "\n",
    "# Número de folds que serão criados\n",
    "qtd_fods = 2\n",
    "\n",
    "# Pasta para salvar os modelos criados\n",
    "caminho_salvar_modelo = \"modelos/\""
   ]
  },
  {
   "cell_type": "code",
   "execution_count": 15,
   "metadata": {},
   "outputs": [],
   "source": [
    "# Define o EarlyStopping\n",
    "monitor = EarlyStopping(monitor = \"val_loss\", min_delta = 1e-1, patience = 5, verbose = 1, mode  =\"auto\")\n",
    "\n",
    "# Define a validação cruzada\n",
    "folds  = KFold(n_splits = qtd_fods, shuffle = True, random_state = 1).split(x_train, y_train)\n",
    "\n",
    "# Definindo o Data Argumentation\n",
    "argumentation = ImageDataGenerator(rotation_range=20,\n",
    "                                   zoom_range=0.15,\n",
    "                                   width_shift_range=0.2, \n",
    "                                   height_shift_range=0.2,\n",
    "                                   shear_range=0.15,\n",
    "                                   horizontal_flip=True, \n",
    "                                   fill_mode=\"nearest\")"
   ]
  },
  {
   "cell_type": "code",
   "execution_count": null,
   "metadata": {},
   "outputs": [
    {
     "name": "stdout",
     "output_type": "stream",
     "text": [
      "CPU times: user 4 µs, sys: 1 µs, total: 5 µs\n",
      "Wall time: 11.7 µs\n",
      "Treinando o FOLD: 1\n",
      "Epoch 1/100\n",
      "390/390 [==============================] - 13s 33ms/step - loss: 2.0200 - accuracy: 0.2452 - val_loss: 1.7678 - val_accuracy: 0.3594 - lr: 0.0010\n",
      "Epoch 2/100\n",
      "390/390 [==============================] - 13s 33ms/step - loss: 1.7742 - accuracy: 0.3514 - val_loss: 1.6175 - val_accuracy: 0.4166 - lr: 0.0010\n",
      "Epoch 3/100\n",
      "390/390 [==============================] - 13s 33ms/step - loss: 1.6850 - accuracy: 0.3827 - val_loss: 1.6070 - val_accuracy: 0.4246 - lr: 0.0010\n",
      "Epoch 4/100\n",
      "390/390 [==============================] - 13s 33ms/step - loss: 1.6250 - accuracy: 0.4042 - val_loss: 1.4809 - val_accuracy: 0.4536 - lr: 0.0010\n",
      "Epoch 5/100\n",
      "390/390 [==============================] - 13s 33ms/step - loss: 1.5687 - accuracy: 0.4280 - val_loss: 1.4057 - val_accuracy: 0.4790 - lr: 0.0010\n",
      "Epoch 6/100\n",
      "390/390 [==============================] - 13s 33ms/step - loss: 1.5311 - accuracy: 0.4431 - val_loss: 1.3900 - val_accuracy: 0.4874 - lr: 0.0010\n",
      "Epoch 7/100\n",
      "390/390 [==============================] - 13s 33ms/step - loss: 1.4941 - accuracy: 0.4511 - val_loss: 1.3617 - val_accuracy: 0.5018 - lr: 0.0010\n",
      "Epoch 8/100\n",
      "390/390 [==============================] - 13s 33ms/step - loss: 1.4756 - accuracy: 0.4621 - val_loss: 1.2847 - val_accuracy: 0.5352 - lr: 0.0010\n",
      "Epoch 9/100\n",
      "390/390 [==============================] - 13s 33ms/step - loss: 1.4470 - accuracy: 0.4730 - val_loss: 1.3066 - val_accuracy: 0.5176 - lr: 0.0010\n",
      "Epoch 10/100\n",
      "390/390 [==============================] - 13s 33ms/step - loss: 1.4242 - accuracy: 0.4834 - val_loss: 1.3058 - val_accuracy: 0.5282 - lr: 0.0010\n",
      "Epoch 11/100\n",
      "390/390 [==============================] - 13s 33ms/step - loss: 1.4082 - accuracy: 0.4902 - val_loss: 1.3380 - val_accuracy: 0.5116 - lr: 0.0010\n",
      "Epoch 12/100\n",
      "390/390 [==============================] - 13s 33ms/step - loss: 1.3937 - accuracy: 0.4954 - val_loss: 1.2627 - val_accuracy: 0.5356 - lr: 0.0010\n",
      "Epoch 00012: early stopping\n",
      "Treinando o FOLD: 2\n",
      "Epoch 1/100\n",
      "390/390 [==============================] - 13s 33ms/step - loss: 2.0027 - accuracy: 0.2534 - val_loss: 1.7845 - val_accuracy: 0.3468 - lr: 0.0010\n",
      "Epoch 2/100\n",
      "390/390 [==============================] - 13s 34ms/step - loss: 1.7751 - accuracy: 0.3525 - val_loss: 1.5841 - val_accuracy: 0.4322 - lr: 0.0010\n",
      "Epoch 3/100\n",
      "390/390 [==============================] - 13s 33ms/step - loss: 1.6842 - accuracy: 0.3859 - val_loss: 1.4866 - val_accuracy: 0.4540 - lr: 0.0010\n",
      "Epoch 4/100\n",
      "390/390 [==============================] - 13s 33ms/step - loss: 1.6157 - accuracy: 0.4126 - val_loss: 1.4494 - val_accuracy: 0.4788 - lr: 0.0010\n",
      "Epoch 5/100\n",
      "390/390 [==============================] - 13s 33ms/step - loss: 1.5819 - accuracy: 0.4221 - val_loss: 1.4006 - val_accuracy: 0.4910 - lr: 0.0010\n",
      "Epoch 6/100\n",
      "390/390 [==============================] - 13s 33ms/step - loss: 1.5414 - accuracy: 0.4419 - val_loss: 1.3477 - val_accuracy: 0.5186 - lr: 0.0010\n",
      "Epoch 7/100\n",
      "390/390 [==============================] - 13s 33ms/step - loss: 1.5078 - accuracy: 0.4568 - val_loss: 1.3539 - val_accuracy: 0.5080 - lr: 0.0010\n",
      "Epoch 8/100\n",
      "390/390 [==============================] - 13s 34ms/step - loss: 1.4861 - accuracy: 0.4581 - val_loss: 1.3405 - val_accuracy: 0.5100 - lr: 0.0010\n",
      "Epoch 9/100\n",
      "390/390 [==============================] - 13s 33ms/step - loss: 1.4525 - accuracy: 0.4758 - val_loss: 1.2928 - val_accuracy: 0.5362 - lr: 0.0010\n",
      "Epoch 10/100\n",
      "385/390 [============================>.] - ETA: 0s - loss: 1.4333 - accuracy: 0.4818"
     ]
    }
   ],
   "source": [
    "%time\n",
    "for train_index, val_index in folds:\n",
    "    print(f\"Treinando o FOLD: {num_fold}\")\n",
    "    \n",
    "    # Cria os datasets de treinamento a partir da validação cruzada\n",
    "    x_train_files_fold = x_train[train_index]\n",
    "    y_train_files_fold = keras.utils.to_categorical(y_train[train_index])  \n",
    "    \n",
    "    # Limpa a memória\n",
    "    clear_session()\n",
    "    \n",
    "    # Cria o modelo a partir da função\n",
    "    model = cria_modelo()\n",
    "    \n",
    "    # Define o caminho onde será salvo os modelos\n",
    "    modelo_fold_salvo = os.path.join(caminho_salvar_modelo, 'pesos_fold_' + str(num_fold) + '.h5')    \n",
    "    \n",
    "    # Cria/adiciona as callbacks de checkpoint do modelo, Reduce Learning rate plateau e Early Stopping\n",
    "    callbacks = [ModelCheckpoint(modelo_fold_salvo,\n",
    "                                 save_best_only = True,\n",
    "                                 mode = \"max\"),\n",
    "                 ReduceLROnPlateau(monitor = 'loss', \n",
    "                                   factor = 0.01, \n",
    "                                   patience = 3, \n",
    "                                   mode = 'min', \n",
    "                                   min_lr = 0.000001,\n",
    "                                   verbose = 1),\n",
    "                 monitor] \n",
    "\n",
    "    # Treinando o modelo    \n",
    "    model.fit(\n",
    "              argumentation.flow(x_train_files_fold, \n",
    "                       y_train_files_fold, \n",
    "                       batch_size = 64),\n",
    "                       validation_data = (x_validation, y_validation_to_categorical),\n",
    "                       callbacks=[callbacks],\n",
    "                       steps_per_epoch = x_train_files_fold.shape[0] // 64,\n",
    "                       batch_size = 64,\n",
    "                       epochs = 100)\n",
    "    \n",
    "    # Adiciona 1 ao index\n",
    "    num_fold += 1"
   ]
  },
  {
   "cell_type": "code",
   "execution_count": null,
   "metadata": {},
   "outputs": [],
   "source": [
    "# Cria o modelo final\n",
    "\n",
    "modelo_final = cria_modelo()"
   ]
  },
  {
   "cell_type": "code",
   "execution_count": null,
   "metadata": {},
   "outputs": [],
   "source": [
    "# Carrega os pesos do último modelo \n",
    "caminho_ultimo_model = os.path.join(caminho_salvar_modelo, 'pesos_fold_2.h5' )\n",
    "modelo_final.load_weights(caminho_ultimo_model)"
   ]
  },
  {
   "cell_type": "code",
   "execution_count": null,
   "metadata": {},
   "outputs": [],
   "source": [
    "# Avalia o modelo\n",
    "loss, accuracy = modelo_final.evaluate(x_validation, y_validation_to_categorical)\n",
    "\n",
    "print(\"Loss: \", loss)\n",
    "print(\"Accuracy: \", accuracy)"
   ]
  },
  {
   "cell_type": "code",
   "execution_count": null,
   "metadata": {},
   "outputs": [],
   "source": [
    "# Exibindo a arquitetura do modelo\n",
    "modelo_final.summary()"
   ]
  },
  {
   "cell_type": "code",
   "execution_count": null,
   "metadata": {},
   "outputs": [],
   "source": [
    "# Fazendo previsões com os dados de teste\n",
    "predict = model.predict(x_test)\n",
    "predict_to_class = [np.argmax(x) for x in predict]"
   ]
  },
  {
   "cell_type": "code",
   "execution_count": null,
   "metadata": {},
   "outputs": [],
   "source": [
    "# Verificando as 10 primeiras previsões e comparando com as targets\n",
    "print(\"Previsto: \", predict_to_class[:10])\n",
    "print(\"Esperado: \", [y_test[:10, 0]])"
   ]
  },
  {
   "cell_type": "code",
   "execution_count": null,
   "metadata": {},
   "outputs": [],
   "source": [
    "# Verificando as métricas\n",
    "sc_ac = accuracy_score(y_test, predict_to_class)\n",
    "sc_rc = recall_score(y_test, predict_to_class, average='weighted')\n",
    "sc_pc = precision_score(y_test, predict_to_class, average='weighted')\n",
    "sc_f1 = f1_score(y_test, predict_to_class, average='weighted')\n",
    "\n",
    "print(\"=========== MÉTRICAS =============\")\n",
    "print(\"Accuracy score: %.2f\" % (sc_ac * 100))\n",
    "print(\"Recall score: %.2f\" % (sc_rc * 100))\n",
    "print(\"Precision score: %.2f\" % (sc_pc * 100))\n",
    "print(\"F1 score: %.2f\" % (sc_f1 * 100))"
   ]
  },
  {
   "cell_type": "code",
   "execution_count": null,
   "metadata": {},
   "outputs": [],
   "source": [
    "# Matriz de confusão\n",
    "print(\"============ MATRIZ DE CONFUSÃO ================\")\n",
    "print(confusion_matrix(y_test, predict_to_class))"
   ]
  },
  {
   "cell_type": "code",
   "execution_count": null,
   "metadata": {},
   "outputs": [],
   "source": []
  }
 ],
 "metadata": {
  "kernelspec": {
   "display_name": "Python 3",
   "language": "python",
   "name": "python3"
  },
  "language_info": {
   "codemirror_mode": {
    "name": "ipython",
    "version": 3
   },
   "file_extension": ".py",
   "mimetype": "text/x-python",
   "name": "python",
   "nbconvert_exporter": "python",
   "pygments_lexer": "ipython3",
   "version": "3.8.3"
  }
 },
 "nbformat": 4,
 "nbformat_minor": 4
}
